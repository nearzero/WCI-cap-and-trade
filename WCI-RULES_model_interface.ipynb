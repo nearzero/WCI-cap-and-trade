{
 "cells": [
  {
   "cell_type": "markdown",
   "metadata": {
    "deletable": false,
    "editable": false,
    "hide_input": false,
    "run_control": {
     "frozen": true
    }
   },
   "source": [
    "<img src=\"images/Near_Zero_logo_tiny.jpg\" alt=\"Drawing\" align=\"right\" style=\"width: 200px\"/>\n",
    "\n",
    "# <span style=\"color:DarkBlue\">Western Climate Initiative cap-and-trade model</span>\n",
    "\n",
    "## Developed by [Near Zero](http://nearzero.org)\n",
    "\n",
    "This model simulates the supply-demand balance of the Western Climate Initiative cap-and-trade program, jointly operated by California and Quebec.\n",
    "\n",
    "This interactive online version of the model allows you simulate a range of supply-demand scenarios through 2030, as determined by three core assumptions about the future:\n",
    "1. Covered greenhouse gas emissions\n",
    "2. Quarterly allowance auction outcomes\n",
    "3. Carbon offset supplies\n",
    "\n",
    "Each assumption can be set in \"simple\" mode to quickly specify a scenario, or can be set in \"advanced\" or \"custom\" mode for more detailed specifications. Click on the tabs in each category to choose the level of control over the settings.\n",
    "\n",
    "When you have created your desired scenario, click the button \"Run supply-demand calculations\" to see the results. When you click the run button, the settings in the tabs that are open will be used for the model run."
   ]
  },
  {
   "cell_type": "code",
   "execution_count": null,
   "metadata": {
    "init_cell": true,
    "scrolled": false
   },
   "outputs": [],
   "source": [
    "# import the model\n",
    "import WCI_model as model\n",
    "from WCI_model import prmt\n",
    "\n",
    "from bokeh.plotting import show\n",
    "# ~~~~~~~~~~~~~~~~~~~~~~~~~~~~~~~~~~~\n",
    "\n",
    "import ipywidgets as widgets\n",
    "from IPython.core.display import display\n",
    "from IPython.display import clear_output\n",
    "\n",
    "# ~~~~~~~~~~~~~~~~~~~~~~~~~~~~~~~~~~~\n",
    "\n",
    "# override values that may be in notebook file, to ensure that model runs work as desired\n",
    "model.prmt.online_settings_auction = True\n",
    "model.prmt.run_hindcast = False\n",
    "model.prmt.run_tests = False\n",
    "\n",
    "# when supply-demand button clicked, perform action\n",
    "model.supply_demand_button.on_click(model.supply_demand_button_on_click)\n",
    "\n",
    "# # create supply-demand button (but don't show it until display step below)\n",
    "# refresh_model_button = widgets.Button(description=\"Refresh entire model\", \n",
    "#                                       layout=widgets.Layout(width=\"250px\"))\n",
    "# refresh_model_button.style.button_color = 'PowderBlue'\n",
    "\n",
    "\n",
    "# when supply-demand button clicked, perform action\n",
    "model.save_csv_button.on_click(model.save_csv_on_click)\n",
    "\n",
    "clear_output(wait=True)\n",
    "\n",
    "# ~~~~~~~~~~~~~\n",
    "# what appears after clear_output:\n",
    "\n",
    "model_results_text = f\"<h3>results for California and Quebec</h3><h4>(model version {model.prmt.model_version})</h4>\"\n",
    "\n",
    "model_results_header = widgets.HTML(value=model_results_text)      \n",
    "display(model_results_header)\n",
    "\n",
    "# show two-panel figure\n",
    "show(model.prmt.Fig_1_2)\n",
    "\n",
    "# show supply-demand button\n",
    "# display(model.supply_demand_button)\n",
    "# display(widgets.HBox([model.supply_demand_button, model.save_figures_button]))\n",
    "display(widgets.HBox([model.supply_demand_button, model.save_csv_button]))\n",
    "\n",
    "# display(model.figure_explainer_accord)"
   ]
  },
  {
   "cell_type": "code",
   "execution_count": null,
   "metadata": {
    "init_cell": true,
    "scrolled": false
   },
   "outputs": [],
   "source": [
    "display(model.figure_explainer_accord)\n",
    "\n",
    "# display sets of tabs for parameters\n",
    "display(model.emissions_tabs_explainer_title)\n",
    "display(model.auction_tabs_explainer_title)\n",
    "display(model.offsets_tabs_explainer_title)\n",
    "\n",
    "# ~~~~~~~~~~~~~~~~\n",
    "refresh_model_button = widgets.HTML(\n",
    "    \"\"\"<h4> If the model times out or otherwise stops working:</h4>\n",
    "    <a href=\"https://mybinder.org/v2/gh/nearzero/WCI-cap-and-trade/master?filepath=WCI_model_interface.ipynb\">\n",
    "    <button>Refresh entire model</button>\n",
    "    </a>\"\"\")\n",
    "\n",
    "display(refresh_model_button)"
   ]
  },
  {
   "cell_type": "markdown",
   "metadata": {
    "deletable": false,
    "editable": false,
    "run_control": {
     "frozen": true
    }
   },
   "source": [
    "---\n",
    "\n",
    "© Copyright 2018 by [Near Zero](http://nearzero.org). This work is licensed under a [Creative Commons Attribution-ShareAlike 4.0 International License](https://creativecommons.org/licenses/by-sa/4.0/).\n",
    "\n",
    "Mason Inman (minman@nearzero.org) is the project manager and technical lead for the development of this model.\n",
    "\n",
    "The model is open source, released under the Creative Commons license above, and is written in Python, including use of the library [Pandas](https://pandas.pydata.org/). The online user interface is built using [Jupyter](https://jupyter.org/), with figures using [Bokeh](http://bokeh.pydata.org/), and hosted online through [Binder](https://mybinder.org/).\n",
    "\n",
    "On Github, see the [model code](https://github.com/nearzero/WCI-cap-and-trade) and [release notes](https://github.com/nearzero/WCI-cap-and-trade/releases), and [model documentation](https://github.com/nearzero/WCI-cap-and-trade/blob/master/documentation.docx?raw=true).\n",
    "\n",
    "Near Zero gratefully acknowledges support for this work from the Energy Foundation, grant number G-1804-27647. Near Zero is solely responsible for the content. The model, its results, and its documentation are for informational purposes only and do not constitute investment advice.\n",
    "\n",
    "**About Near Zero**: Near Zero is a non-profit environmental research organization based at the Carnegie Institution for Science on the Stanford University campus. Near Zero provides credible, impartial, and actionable assessment with the goal of cutting greenhouse gas emissions to near zero."
   ]
  },
  {
   "cell_type": "code",
   "execution_count": null,
   "metadata": {},
   "outputs": [],
   "source": []
  }
 ],
 "metadata": {
  "celltoolbar": "Initialization Cell",
  "hide_input": true,
  "kernelspec": {
   "display_name": "Python 3",
   "language": "python",
   "name": "python3"
  },
  "language_info": {
   "codemirror_mode": {
    "name": "ipython",
    "version": 3
   },
   "file_extension": ".py",
   "mimetype": "text/x-python",
   "name": "python",
   "nbconvert_exporter": "python",
   "pygments_lexer": "ipython3",
   "version": "3.6.6"
  },
  "toggle-header": false,
  "toggle-toolbar": false
 },
 "nbformat": 4,
 "nbformat_minor": 2
}
